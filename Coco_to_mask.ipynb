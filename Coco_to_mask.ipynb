{
  "nbformat": 4,
  "nbformat_minor": 0,
  "metadata": {
    "colab": {
      "provenance": [],
      "authorship_tag": "ABX9TyN7zQD58UIqu48hZtipYoz2",
      "include_colab_link": true
    },
    "kernelspec": {
      "name": "python3",
      "display_name": "Python 3"
    },
    "language_info": {
      "name": "python"
    }
  },
  "cells": [
    {
      "cell_type": "markdown",
      "metadata": {
        "id": "view-in-github",
        "colab_type": "text"
      },
      "source": [
        "<a href=\"https://colab.research.google.com/github/Lalith2005reddy/HDR_Image_Segmentation/blob/main/Coco_to_mask.ipynb\" target=\"_parent\"><img src=\"https://colab.research.google.com/assets/colab-badge.svg\" alt=\"Open In Colab\"/></a>"
      ]
    },
    {
      "cell_type": "code",
      "execution_count": null,
      "metadata": {
        "id": "2cnuigxeaYAJ"
      },
      "outputs": [],
      "source": [
        "import os\n",
        "import cv2\n",
        "import numpy as np\n",
        "from pycocotools import mask as maskUtils\n",
        "from pycocotools.coco import COCO\n",
        "import matplotlib.pyplot as plt\n",
        "\n",
        "# Paths to the COCO annotation file and image directory\n",
        "coco_json_path = r'C:\\Users\\91630\\Desktop\\_annotations.coco.json'\n",
        "image_directory = r'C:\\Users\\91630\\Desktop\\ML'  # Correct directory containing images\n",
        "output_directory = r'C:\\Users\\91630\\Desktop\\ML'\n",
        "\n",
        "# Create the output directory if it doesn't exist\n",
        "os.makedirs(output_directory, exist_ok=True)\n",
        "\n",
        "# Load the COCO annotation file\n",
        "coco = COCO(coco_json_path)\n",
        "\n",
        "# List files in the image directory\n",
        "print(\"Files in directory:\", os.listdir(image_directory))\n",
        "\n",
        "# Iterate over each image in the COCO dataset\n",
        "for img_id in coco.getImgIds():\n",
        "    # Load the image metadata\n",
        "    img_info = coco.loadImgs(img_id)[0]\n",
        "    img_filename = img_info['file_name']\n",
        "    img_path = os.path.join(image_directory, img_filename)\n",
        "\n",
        "    # Debug: print the image path\n",
        "    print(f'Processing image: {img_path}')\n",
        "\n",
        "    # Read the image\n",
        "    image = cv2.imread(img_path)\n",
        "\n",
        "    # Check if the image was loaded successfully\n",
        "    if image is None:\n",
        "        print(f'Warning: Unable to load image at path {img_path}')\n",
        "        continue\n",
        "\n",
        "    height, width, _ = image.shape\n",
        "\n",
        "    # Create an empty mask\n",
        "    mask = np.zeros((height, width), dtype=np.uint8)\n",
        "\n",
        "    # Load annotations for the image\n",
        "    ann_ids = coco.getAnnIds(imgIds=img_info['id'])\n",
        "    anns = coco.loadAnns(ann_ids)\n",
        "\n",
        "    # Iterate over each annotation and create the mask\n",
        "    for ann in anns:\n",
        "        # Convert the annotation to a binary mask\n",
        "        rle = maskUtils.frPyObjects(ann['segmentation'], height, width)\n",
        "        m = maskUtils.decode(rle)\n",
        "\n",
        "        # Squeeze the mask to remove the extra dimension\n",
        "        m = np.squeeze(m)\n",
        "\n",
        "        # Add the mask to the output mask\n",
        "        mask = np.maximum(mask, m * ann['category_id'])  # Or use a fixed value (e.g., 255) for the mask\n",
        "\n",
        "    # Save the mask as an image\n",
        "    mask_output_path = os.path.join(output_directory, f\"{os.path.splitext(img_filename)[0]}_mask.png\")\n",
        "    cv2.imwrite(mask_output_path, mask)\n",
        "    print(f'Saved mask to {mask_output_path}')\n",
        "\n",
        "    # Optionally, visualize the mask\n",
        "    plt.imshow(mask, cmap='gray')\n",
        "    plt.title(f\"Mask for {img_filename}\")\n",
        "    plt.show()\n"
      ]
    }
  ]
}